{
 "cells": [
  {
   "cell_type": "code",
   "execution_count": 43,
   "metadata": {},
   "outputs": [
    {
     "name": "stderr",
     "output_type": "stream",
     "text": [
      "\n",
      "\n",
      "====== WebDriver manager ======\n",
      "Current google-chrome version is 98.0.4758\n",
      "Get LATEST chromedriver version for 98.0.4758 google-chrome\n",
      "Driver [/Users/malcolmkrolick/.wdm/drivers/chromedriver/mac64/98.0.4758.80/chromedriver] found in cache\n",
      "/var/folders/c7/lq7hgzl54ms3n03t1xd6q6qr0000gn/T/ipykernel_77141/3528517496.py:71: DeprecationWarning: executable_path has been deprecated, please pass in a Service object\n",
      "  driver = webdriver.Chrome(ChromeDriverManager().install())\n"
     ]
    }
   ],
   "source": [
    "from logging import captureWarnings\n",
    "from selenium import webdriver\n",
    "from selenium.webdriver.support.ui import Select\n",
    "import re\n",
    "from time import sleep\n",
    "\n",
    "\n",
    "# html from the vocab page\n",
    "html = open('vocab_list.html', 'r')\n",
    "\n",
    "# creates a regular expression pattern to detect a starting place\n",
    "# where a later patter will run and not return an error\n",
    "pattern = re.compile(r'\\<table cellpadding=\"1\"\\>(.*)', re.DOTALL)\n",
    "\n",
    "# Creates Matches\n",
    "matches = pattern.finditer(html.read())\n",
    "\n",
    "# iterates through matches. Selects the first group. Returns a string representation\n",
    "innerHTMLMinusTbody = [match for match in matches][0].group(1)\n",
    "\n",
    "\n",
    "\n",
    "#pattern to detect differnt table rows based on script and info pattern\n",
    "pattern = re.compile(r'\\<script\\>\\ninfo\\[.*?\\] = new Array\\(\\);\\n(.*?)\\<\\/script\\>', re.DOTALL)\n",
    "\n",
    "\n",
    "#matches pattern\n",
    "matches = pattern.finditer(innerHTMLMinusTbody)\n",
    "\n",
    "\n",
    "language_tuple_list = []\n",
    "\n",
    "# creates index variable for testing\n",
    "#i = 0\n",
    "\n",
    "# iterates through matches\n",
    "for match in matches:\n",
    "\n",
    "\n",
    "    # turns match element into a readable string\n",
    "    table_element = match.group(1)\n",
    "\n",
    "    # creates a regular expression vocab pattern for character recognition\n",
    "    vocab_symbol_patterns = re.compile(r'info\\[.*?\\]\\[2\\] = \\\"(.*?)\\\";', re.DOTALL)\n",
    "\n",
    "    # creates a regular expression vocab pattern for pinyin string recognition\n",
    "    vocab_pinyin_patterns = re.compile(r'info\\[.*?\\]\\[3\\] = \\\"(.*?)\\\";', re.DOTALL)\n",
    "\n",
    "    # creates a regular expression vocab pattern for english string recognition\n",
    "    vocab_english_patterns = re.compile(r'info\\[.*?\\]\\[4\\] = \\\"(.*?)\\\";', re.DOTALL)\n",
    "\n",
    "\n",
    "    #Creates a class storing engish, pinyin, character values\n",
    "    temp_vocab = (vocab_symbol_patterns.findall(table_element)[0], vocab_pinyin_patterns.findall(table_element)[0], vocab_english_patterns.findall(table_element)[0])\n",
    "\n",
    "    #Appends class to the language tuple string\n",
    "    language_tuple_list.append(temp_vocab)\n",
    "\n",
    "    #tempory bug fix indexer\n",
    "    #i += 1\n",
    "\n",
    "\n",
    "\n",
    "\n",
    "\n",
    "from selenium import webdriver\n",
    "from selenium.webdriver.common.by import By\n",
    "from webdriver_manager.chrome import ChromeDriverManager\n",
    "\n",
    "\n",
    "driver = webdriver.Chrome(ChromeDriverManager().install())\n",
    "driver.get(\"http://www.wlangames.net/hwenchinese3.php\")\n",
    "\n",
    "driver.find_element(By.XPATH, '//*[@id=\"Student\"]').click()\n",
    "driver.find_element(By.XPATH, '//*[@id=\"Student\"]/option[6]').click()\n",
    "driver.find_element(By.XPATH, '//*[@id=\"l1\"]').click()\n",
    "driver.find_element(By.XPATH, '//*[@id=\"EarnPointsDataArea\"]/table/tbody/tr/td[1]/table/tbody/tr[4]').click()\n",
    "\n",
    "sleep(3)\n",
    "\n",
    "p = driver.window_handles[0]\n",
    "#obtain browser tab window\n",
    "c = driver.window_handles[1]\n",
    "#switch to tab browser\n",
    "driver.switch_to.window(c)\n",
    "\n",
    "\n",
    "\n"
   ]
  },
  {
   "cell_type": "code",
   "execution_count": 44,
   "metadata": {},
   "outputs": [],
   "source": [
    "\n",
    "def convert(text, langauge_tuple_list):\n",
    "    for index in range(len(langauge_tuple_list)):\n",
    "        processed_text = langauge_tuple_list[index][2].replace(\"'\", \"`\")\n",
    "        if processed_text == text:\n",
    "            return (' '  + ' '.join([z for z in langauge_tuple_list[index][0]]) + ' ')\n",
    "\n",
    "#not sure why 50 but works\n",
    "for i in range(50):\n",
    "\n",
    "    definition_element = driver.find_element(By.CSS_SELECTOR, '#English > h2')\n",
    "    english_text = definition_element.text\n",
    "\n",
    "    converted_text = convert(english_text, language_tuple_list)\n",
    "\n",
    "    #print(i)\n",
    "\n",
    "    for index in range(9):\n",
    "\n",
    "        element = driver.find_element(By.XPATH, f'//*[@id=\"button{index + 1}\"]')\n",
    "        text = element.text\n",
    "        if(text == converted_text):\n",
    "            element.click()\n",
    "            #print(text)\n",
    "            break\n",
    "\n",
    "    sleep(2)\n"
   ]
  },
  {
   "cell_type": "code",
   "execution_count": 17,
   "metadata": {},
   "outputs": [
    {
     "data": {
      "text/plain": [
       "' s t r '"
      ]
     },
     "execution_count": 17,
     "metadata": {},
     "output_type": "execute_result"
    }
   ],
   "source": [
    "x = \"str\"\n",
    "j = \" \"\n",
    "\n",
    "\n",
    "' '  + ' '.join([z for z in x]) + ' '\n"
   ]
  },
  {
   "cell_type": "code",
   "execution_count": 25,
   "metadata": {},
   "outputs": [],
   "source": []
  },
  {
   "cell_type": "code",
   "execution_count": 26,
   "metadata": {},
   "outputs": [
    {
     "name": "stdout",
     "output_type": "stream",
     "text": [
      " 路 灯 \n",
      " 号 码 \n",
      " 旅 行 \n",
      " 搬 出 去 \n",
      " 电 \n",
      " 房 间 \n",
      " 整 理 \n",
      " 扌 \n",
      " 记 \n"
     ]
    }
   ],
   "source": [
    " \t\n",
    "can`t remember; can`t recall\n"
   ]
  }
 ],
 "metadata": {
  "interpreter": {
   "hash": "807550ebb2ea0e22b8c765c7b2617f9a7b55fdb4d3e57bd41db1c89f09236ad6"
  },
  "kernelspec": {
   "display_name": "Python 3.10.2 ('env': venv)",
   "language": "python",
   "name": "python3"
  },
  "language_info": {
   "codemirror_mode": {
    "name": "ipython",
    "version": 3
   },
   "file_extension": ".py",
   "mimetype": "text/x-python",
   "name": "python",
   "nbconvert_exporter": "python",
   "pygments_lexer": "ipython3",
   "version": "3.10.2"
  },
  "orig_nbformat": 4
 },
 "nbformat": 4,
 "nbformat_minor": 2
}
