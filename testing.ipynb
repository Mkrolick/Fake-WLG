{
 "cells": [
  {
   "cell_type": "code",
   "execution_count": 14,
   "metadata": {},
   "outputs": [
    {
     "name": "stderr",
     "output_type": "stream",
     "text": [
      "\n",
      "\n",
      "====== WebDriver manager ======\n",
      "Current google-chrome version is 100.0.4896\n",
      "Get LATEST chromedriver version for 100.0.4896 google-chrome\n",
      "Driver [/Users/malcolmkrolick/.wdm/drivers/chromedriver/mac64/100.0.4896.60/chromedriver] found in cache\n",
      "/var/folders/c7/lq7hgzl54ms3n03t1xd6q6qr0000gn/T/ipykernel_36843/3139729994.py:17: DeprecationWarning: executable_path has been deprecated, please pass in a Service object\n",
      "  driver = webdriver.Chrome(ChromeDriverManager().install(), options=options)\n"
     ]
    }
   ],
   "source": [
    "from selenium import webdriver\n",
    "from selenium.webdriver.common.by import By\n",
    "from selenium.webdriver.chrome.service import Service, Options\n",
    "from webdriver_manager.chrome import ChromeDriverManager\n",
    "import re\n",
    "import ssl\n",
    "\n",
    "\n",
    "\n",
    "\n",
    "#verify ssl\n",
    "ssl._create_default_https_context = ssl._create_unverified_context\n",
    "\n",
    "#set headless browser\n",
    "options = Options()\n",
    "options.headless = True\n",
    "\n",
    "#start headless browser instance\n",
    "driver = webdriver.Chrome(service=Service(ChromeDriverManager().install()), options=options)\n",
    "driver.get(\"http://www.wlangames.net/hwenchinese3.php\")\n",
    "driver.find_element(By.XPATH, '//*[@id=\"TheForm\"]/font/table[3]/tbody/tr/td/table/tbody/tr/td[1]/table/tbody/tr/td/table/tbody/tr[7]/td/label').click()\n",
    "\n",
    "#obtain parent window handle\n",
    "parent_window = driver.window_handles[0]\n",
    "#obtain browser tab window\n",
    "second_window = driver.window_handles[1]\n",
    "#switch to tab browser\n",
    "driver.switch_to.window(second_window)\n",
    "\n",
    "# html from the vocab page\n",
    "html = driver.page_source\n",
    "\n",
    "# creates a regular expression pattern to detect a starting place\n",
    "# where a later patter will run and not return an error\n",
    "pattern = re.compile(r'\\<table cellpadding=\"1\"\\>(.*)', re.DOTALL)\n",
    "\n",
    "# Creates Matches\n",
    "matches = pattern.finditer(html)\n",
    "\n",
    "# iterates through matches. Selects the first group. Returns a string representation\n",
    "innerHTMLMinusTbody = [match for match in matches][0].group(1)\n",
    "\n",
    "#pattern to detect differnt table rows based on script and info pattern\n",
    "pattern = re.compile(r'\\<script\\>\\ninfo\\[.*?\\] = new Array\\(\\);\\n(.*?)\\<\\/script\\>', re.DOTALL)\n",
    "\n",
    "#matches pattern\n",
    "matches = pattern.finditer(innerHTMLMinusTbody)\n",
    "\n",
    "language_tuple_list = []\n",
    "\n",
    "# iterates through matches\n",
    "for match in matches:\n",
    "    # turns match element into a readable string\n",
    "    table_element = match.group(1)\n",
    "\n",
    "    # creates a regular expression vocab pattern for character recognition\n",
    "    vocab_symbol_patterns = re.compile(r'info\\[.*?\\]\\[2\\] = \\\"(.*?)\\\";', re.DOTALL)\n",
    "\n",
    "    # creates a regular expression vocab pattern for pinyin string recognition\n",
    "    vocab_pinyin_patterns = re.compile(r'info\\[.*?\\]\\[3\\] = \\\"(.*?)\\\";', re.DOTALL)\n",
    "\n",
    "    # creates a regular expression vocab pattern for english string recognition\n",
    "    vocab_english_patterns = re.compile(r'info\\[.*?\\]\\[4\\] = \\\"(.*?)\\\";', re.DOTALL)\n",
    "\n",
    "\n",
    "    #Creates a class storing engish, pinyin, character values\n",
    "    temp_vocab = (vocab_symbol_patterns.findall(table_element)[0], vocab_pinyin_patterns.findall(table_element)[0], vocab_english_patterns.findall(table_element)[0])\n",
    "\n",
    "    #Appends class to the language tuple string\n",
    "    language_tuple_list.append(temp_vocab)\n",
    "\n",
    "\n"
   ]
  },
  {
   "cell_type": "code",
   "execution_count": 15,
   "metadata": {},
   "outputs": [
    {
     "name": "stdout",
     "output_type": "stream",
     "text": [
      "[('干净', 'gān jìng', 'clean'), ('脏', 'zāng', 'dirty'), ('沙发', 'shā fā', 'sofa'), ('饭桌', 'fàn zhuō', 'dining table'), ('椅子', 'yǐ zi', 'chair'), ('书桌', 'shū zhuō', 'desk'), ('书架', 'shūjià', 'bookcase; bookshelf'), ('那里', 'nà lǐ', 'there (use 里)'), ('安静', 'ān jìng', 'quiet'), ('房租', 'fáng zū', 'rent (money, noun)'), ('美元', 'měi yuán', 'U.S. currency; USD'), ('人民币', 'rén mín bì', 'Chinese currency; RMB'), ('差不多', 'chà bù duō', 'almost; nearly; similar'), ('费', 'fèi', 'fee; expenses'), ('押金', 'yā jīn', 'security deposit'), ('当', 'dāng', 'to serve as; to be'), ('还', 'huán', 'to return (something)'), ('另外', 'lìng wài', 'furthermore; in addition (use 另)'), ('准', 'zhǔn', 'to allow; to be allowed'), ('养', 'yǎng', 'to raise (kids or animals)'), ('宠物', 'chǒng wù', 'pet'), ('兴趣', 'xìng qù', 'interest'), ('纸币', 'zhǐ bì', 'paper money; banknotes'), ('学费', 'xué fèi', 'tuition'), ('租金', 'zū jīn', 'rent (rental fee)')]\n"
     ]
    }
   ],
   "source": [
    "print(language_tuple_list)"
   ]
  },
  {
   "cell_type": "code",
   "execution_count": null,
   "metadata": {},
   "outputs": [],
   "source": []
  }
 ],
 "metadata": {
  "interpreter": {
   "hash": "807550ebb2ea0e22b8c765c7b2617f9a7b55fdb4d3e57bd41db1c89f09236ad6"
  },
  "kernelspec": {
   "display_name": "Python 3.10.2 ('env': venv)",
   "language": "python",
   "name": "python3"
  },
  "language_info": {
   "codemirror_mode": {
    "name": "ipython",
    "version": 3
   },
   "file_extension": ".py",
   "mimetype": "text/x-python",
   "name": "python",
   "nbconvert_exporter": "python",
   "pygments_lexer": "ipython3",
   "version": "3.10.2"
  },
  "orig_nbformat": 4
 },
 "nbformat": 4,
 "nbformat_minor": 2
}
